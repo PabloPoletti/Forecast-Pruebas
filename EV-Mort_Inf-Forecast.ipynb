{
 "cells": [
  {
   "cell_type": "code",
   "execution_count": 1,
   "metadata": {},
   "outputs": [],
   "source": [
    "import numpy as np\n",
    "import pandas as pd\n",
    "import matplotlib.pyplot as plt\n",
    "import seaborn as sns\n",
    "#import pycaret\n",
    "from pycaret.time_series import *\n",
    "import wbgapi as wb"
   ]
  },
  {
   "cell_type": "code",
   "execution_count": 2,
   "metadata": {},
   "outputs": [],
   "source": [
    "pais=['CAN']"
   ]
  },
  {
   "cell_type": "code",
   "execution_count": 4,
   "metadata": {},
   "outputs": [
    {
     "ename": "ValueError",
     "evalue": "could not broadcast input array from shape (1,10) into shape (1,1,15)",
     "output_type": "error",
     "traceback": [
      "\u001b[1;31m---------------------------------------------------------------------------\u001b[0m",
      "\u001b[1;31mValueError\u001b[0m                                Traceback (most recent call last)",
      "\u001b[1;32mUntitled-1.ipynb Celda 3\u001b[0m in \u001b[0;36m<cell line: 25>\u001b[1;34m()\u001b[0m\n\u001b[0;32m     <a href='vscode-notebook-cell:Untitled-1.ipynb?jupyter-notebook#W4sdW50aXRsZWQ%3D?line=19'>20</a>\u001b[0m         \u001b[39m#'catboost_cds_dt','gbr_cds_dt','rf_cds_dt','knn_cds_dt','br_cds_dt','lr_cds_dt','lar_cds_dt','lightgbm_cds_dt',\u001b[39;00m\n\u001b[0;32m     <a href='vscode-notebook-cell:Untitled-1.ipynb?jupyter-notebook#W4sdW50aXRsZWQ%3D?line=20'>21</a>\u001b[0m         \u001b[39m#'par_cds_dt','en_cds_dt','lasso_cds_dt','llar_cds_dt','ridge_cds_dt','huber_cds_dt','auto_arima','arima'] )\u001b[39;00m\n\u001b[0;32m     <a href='vscode-notebook-cell:Untitled-1.ipynb?jupyter-notebook#W4sdW50aXRsZWQ%3D?line=22'>23</a>\u001b[0m final_best1 \u001b[39m=\u001b[39m finalize_model(best)\n\u001b[1;32m---> <a href='vscode-notebook-cell:Untitled-1.ipynb?jupyter-notebook#W4sdW50aXRsZWQ%3D?line=24'>25</a>\u001b[0m df_fut1\u001b[39m=\u001b[39mpredict_model(best, fh \u001b[39m=\u001b[39;49m \u001b[39m15\u001b[39;49m)\n",
      "File \u001b[1;32mc:\\Users\\user\\AppData\\Local\\Programs\\Python\\Python310\\lib\\site-packages\\pycaret\\time_series\\forecasting\\functional.py:1269\u001b[0m, in \u001b[0;36mpredict_model\u001b[1;34m(estimator, fh, X, return_pred_int, alpha, coverage, round, verbose)\u001b[0m\n\u001b[0;32m   1266\u001b[0m \u001b[39mif\u001b[39;00m experiment \u001b[39mis\u001b[39;00m \u001b[39mNone\u001b[39;00m:\n\u001b[0;32m   1267\u001b[0m     experiment \u001b[39m=\u001b[39m _EXPERIMENT_CLASS()\n\u001b[1;32m-> 1269\u001b[0m \u001b[39mreturn\u001b[39;00m experiment\u001b[39m.\u001b[39;49mpredict_model(\n\u001b[0;32m   1270\u001b[0m     estimator\u001b[39m=\u001b[39;49mestimator,\n\u001b[0;32m   1271\u001b[0m     fh\u001b[39m=\u001b[39;49mfh,\n\u001b[0;32m   1272\u001b[0m     X\u001b[39m=\u001b[39;49mX,\n\u001b[0;32m   1273\u001b[0m     return_pred_int\u001b[39m=\u001b[39;49mreturn_pred_int,\n\u001b[0;32m   1274\u001b[0m     alpha\u001b[39m=\u001b[39;49malpha,\n\u001b[0;32m   1275\u001b[0m     coverage\u001b[39m=\u001b[39;49mcoverage,\n\u001b[0;32m   1276\u001b[0m     \u001b[39mround\u001b[39;49m\u001b[39m=\u001b[39;49m\u001b[39mround\u001b[39;49m,\n\u001b[0;32m   1277\u001b[0m     verbose\u001b[39m=\u001b[39;49mverbose,\n\u001b[0;32m   1278\u001b[0m )\n",
      "File \u001b[1;32mc:\\Users\\user\\AppData\\Local\\Programs\\Python\\Python310\\lib\\site-packages\\pycaret\\time_series\\forecasting\\oop.py:4081\u001b[0m, in \u001b[0;36mTSForecastingExperiment.predict_model\u001b[1;34m(self, estimator, fh, X, return_pred_int, alpha, coverage, round, verbose)\u001b[0m\n\u001b[0;32m   4078\u001b[0m fh \u001b[39m=\u001b[39m \u001b[39mself\u001b[39m\u001b[39m.\u001b[39m_predict_model_reconcile_fh(estimator\u001b[39m=\u001b[39mestimator_, fh\u001b[39m=\u001b[39mfh)\n\u001b[0;32m   4079\u001b[0m X \u001b[39m=\u001b[39m \u001b[39mself\u001b[39m\u001b[39m.\u001b[39m_predict_model_reconcile_X(estimator\u001b[39m=\u001b[39mestimator_, X\u001b[39m=\u001b[39mX)\n\u001b[1;32m-> 4081\u001b[0m result \u001b[39m=\u001b[39m get_predictions_with_intervals(\n\u001b[0;32m   4082\u001b[0m     forecaster\u001b[39m=\u001b[39;49mpipeline_with_model,\n\u001b[0;32m   4083\u001b[0m     alpha\u001b[39m=\u001b[39;49malpha,\n\u001b[0;32m   4084\u001b[0m     coverage\u001b[39m=\u001b[39;49mcoverage,\n\u001b[0;32m   4085\u001b[0m     X\u001b[39m=\u001b[39;49mX,\n\u001b[0;32m   4086\u001b[0m     fh\u001b[39m=\u001b[39;49mfh,\n\u001b[0;32m   4087\u001b[0m     merge\u001b[39m=\u001b[39;49m\u001b[39mTrue\u001b[39;49;00m,\n\u001b[0;32m   4088\u001b[0m     \u001b[39mround\u001b[39;49m\u001b[39m=\u001b[39;49m\u001b[39mround\u001b[39;49m,\n\u001b[0;32m   4089\u001b[0m )\n\u001b[0;32m   4090\u001b[0m y_pred \u001b[39m=\u001b[39m pd\u001b[39m.\u001b[39mDataFrame(result[\u001b[39m\"\u001b[39m\u001b[39my_pred\u001b[39m\u001b[39m\"\u001b[39m])\n\u001b[0;32m   4092\u001b[0m \u001b[39m#################\u001b[39;00m\n\u001b[0;32m   4093\u001b[0m \u001b[39m# Metrics ####\u001b[39;00m\n\u001b[0;32m   4094\u001b[0m \u001b[39m#################\u001b[39;00m\n",
      "File \u001b[1;32mc:\\Users\\user\\AppData\\Local\\Programs\\Python\\Python310\\lib\\site-packages\\pycaret\\utils\\time_series\\forecasting\\__init__.py:110\u001b[0m, in \u001b[0;36mget_predictions_with_intervals\u001b[1;34m(forecaster, alpha, coverage, X, fh, merge, round)\u001b[0m\n\u001b[0;32m    108\u001b[0m \u001b[39m# Get Point predictions ----\u001b[39;00m\n\u001b[0;32m    109\u001b[0m \u001b[39mif\u001b[39;00m alpha \u001b[39mis\u001b[39;00m \u001b[39mNone\u001b[39;00m:\n\u001b[1;32m--> 110\u001b[0m     y_pred \u001b[39m=\u001b[39m forecaster\u001b[39m.\u001b[39;49mpredict(fh\u001b[39m=\u001b[39;49mfh, X\u001b[39m=\u001b[39;49mX)\n\u001b[0;32m    111\u001b[0m     y_pred \u001b[39m=\u001b[39m pd\u001b[39m.\u001b[39mDataFrame({\u001b[39m\"\u001b[39m\u001b[39my_pred\u001b[39m\u001b[39m\"\u001b[39m: y_pred})\n\u001b[0;32m    112\u001b[0m \u001b[39melse\u001b[39;00m:\n",
      "File \u001b[1;32mc:\\Users\\user\\AppData\\Local\\Programs\\Python\\Python310\\lib\\site-packages\\sktime\\forecasting\\base\\_base.py:358\u001b[0m, in \u001b[0;36mBaseForecaster.predict\u001b[1;34m(self, fh, X)\u001b[0m\n\u001b[0;32m    356\u001b[0m \u001b[39m# we call the ordinary _predict if no looping/vectorization needed\u001b[39;00m\n\u001b[0;32m    357\u001b[0m \u001b[39mif\u001b[39;00m \u001b[39mnot\u001b[39;00m \u001b[39mself\u001b[39m\u001b[39m.\u001b[39m_is_vectorized:\n\u001b[1;32m--> 358\u001b[0m     y_pred \u001b[39m=\u001b[39m \u001b[39mself\u001b[39;49m\u001b[39m.\u001b[39;49m_predict(fh\u001b[39m=\u001b[39;49mfh, X\u001b[39m=\u001b[39;49mX_inner)\n\u001b[0;32m    359\u001b[0m \u001b[39melse\u001b[39;00m:\n\u001b[0;32m    360\u001b[0m     \u001b[39m# otherwise we call the vectorized version of predict\u001b[39;00m\n\u001b[0;32m    361\u001b[0m     y_pred \u001b[39m=\u001b[39m \u001b[39mself\u001b[39m\u001b[39m.\u001b[39m_vectorize(\u001b[39m\"\u001b[39m\u001b[39mpredict\u001b[39m\u001b[39m\"\u001b[39m, X\u001b[39m=\u001b[39mX_inner, fh\u001b[39m=\u001b[39mfh)\n",
      "File \u001b[1;32mc:\\Users\\user\\AppData\\Local\\Programs\\Python\\Python310\\lib\\site-packages\\sktime\\forecasting\\compose\\_pipeline.py:419\u001b[0m, in \u001b[0;36mForecastingPipeline._predict\u001b[1;34m(self, fh, X)\u001b[0m\n\u001b[0;32m    404\u001b[0m \u001b[39m\"\"\"Forecast time series at future horizon.\u001b[39;00m\n\u001b[0;32m    405\u001b[0m \n\u001b[0;32m    406\u001b[0m \u001b[39mParameters\u001b[39;00m\n\u001b[1;32m   (...)\u001b[0m\n\u001b[0;32m    416\u001b[0m \u001b[39m    Point predictions\u001b[39;00m\n\u001b[0;32m    417\u001b[0m \u001b[39m\"\"\"\u001b[39;00m\n\u001b[0;32m    418\u001b[0m X \u001b[39m=\u001b[39m \u001b[39mself\u001b[39m\u001b[39m.\u001b[39m_transform(X\u001b[39m=\u001b[39mX)\n\u001b[1;32m--> 419\u001b[0m \u001b[39mreturn\u001b[39;00m \u001b[39mself\u001b[39;49m\u001b[39m.\u001b[39;49mforecaster_\u001b[39m.\u001b[39;49mpredict(fh, X)\n",
      "File \u001b[1;32mc:\\Users\\user\\AppData\\Local\\Programs\\Python\\Python310\\lib\\site-packages\\sktime\\forecasting\\base\\_base.py:358\u001b[0m, in \u001b[0;36mBaseForecaster.predict\u001b[1;34m(self, fh, X)\u001b[0m\n\u001b[0;32m    356\u001b[0m \u001b[39m# we call the ordinary _predict if no looping/vectorization needed\u001b[39;00m\n\u001b[0;32m    357\u001b[0m \u001b[39mif\u001b[39;00m \u001b[39mnot\u001b[39;00m \u001b[39mself\u001b[39m\u001b[39m.\u001b[39m_is_vectorized:\n\u001b[1;32m--> 358\u001b[0m     y_pred \u001b[39m=\u001b[39m \u001b[39mself\u001b[39;49m\u001b[39m.\u001b[39;49m_predict(fh\u001b[39m=\u001b[39;49mfh, X\u001b[39m=\u001b[39;49mX_inner)\n\u001b[0;32m    359\u001b[0m \u001b[39melse\u001b[39;00m:\n\u001b[0;32m    360\u001b[0m     \u001b[39m# otherwise we call the vectorized version of predict\u001b[39;00m\n\u001b[0;32m    361\u001b[0m     y_pred \u001b[39m=\u001b[39m \u001b[39mself\u001b[39m\u001b[39m.\u001b[39m_vectorize(\u001b[39m\"\u001b[39m\u001b[39mpredict\u001b[39m\u001b[39m\"\u001b[39m, X\u001b[39m=\u001b[39mX_inner, fh\u001b[39m=\u001b[39mfh)\n",
      "File \u001b[1;32mc:\\Users\\user\\AppData\\Local\\Programs\\Python\\Python310\\lib\\site-packages\\sktime\\forecasting\\compose\\_pipeline.py:908\u001b[0m, in \u001b[0;36mTransformedTargetForecaster._predict\u001b[1;34m(self, fh, X)\u001b[0m\n\u001b[0;32m    893\u001b[0m \u001b[39mdef\u001b[39;00m \u001b[39m_predict\u001b[39m(\u001b[39mself\u001b[39m, fh\u001b[39m=\u001b[39m\u001b[39mNone\u001b[39;00m, X\u001b[39m=\u001b[39m\u001b[39mNone\u001b[39;00m):\n\u001b[0;32m    894\u001b[0m     \u001b[39m\"\"\"Forecast time series at future horizon.\u001b[39;00m\n\u001b[0;32m    895\u001b[0m \n\u001b[0;32m    896\u001b[0m \u001b[39m    Parameters\u001b[39;00m\n\u001b[1;32m   (...)\u001b[0m\n\u001b[0;32m    906\u001b[0m \u001b[39m        Point predictions\u001b[39;00m\n\u001b[0;32m    907\u001b[0m \u001b[39m    \"\"\"\u001b[39;00m\n\u001b[1;32m--> 908\u001b[0m     y_pred \u001b[39m=\u001b[39m \u001b[39mself\u001b[39;49m\u001b[39m.\u001b[39;49mforecaster_\u001b[39m.\u001b[39;49mpredict(fh\u001b[39m=\u001b[39;49mfh, X\u001b[39m=\u001b[39;49mX)\n\u001b[0;32m    909\u001b[0m     \u001b[39m# inverse transform y_pred\u001b[39;00m\n\u001b[0;32m    910\u001b[0m     y_pred \u001b[39m=\u001b[39m \u001b[39mself\u001b[39m\u001b[39m.\u001b[39m_get_inverse_transform(\u001b[39mself\u001b[39m\u001b[39m.\u001b[39mtransformers_pre_, y_pred, X)\n",
      "File \u001b[1;32mc:\\Users\\user\\AppData\\Local\\Programs\\Python\\Python310\\lib\\site-packages\\sktime\\forecasting\\base\\_base.py:358\u001b[0m, in \u001b[0;36mBaseForecaster.predict\u001b[1;34m(self, fh, X)\u001b[0m\n\u001b[0;32m    356\u001b[0m \u001b[39m# we call the ordinary _predict if no looping/vectorization needed\u001b[39;00m\n\u001b[0;32m    357\u001b[0m \u001b[39mif\u001b[39;00m \u001b[39mnot\u001b[39;00m \u001b[39mself\u001b[39m\u001b[39m.\u001b[39m_is_vectorized:\n\u001b[1;32m--> 358\u001b[0m     y_pred \u001b[39m=\u001b[39m \u001b[39mself\u001b[39;49m\u001b[39m.\u001b[39;49m_predict(fh\u001b[39m=\u001b[39;49mfh, X\u001b[39m=\u001b[39;49mX_inner)\n\u001b[0;32m    359\u001b[0m \u001b[39melse\u001b[39;00m:\n\u001b[0;32m    360\u001b[0m     \u001b[39m# otherwise we call the vectorized version of predict\u001b[39;00m\n\u001b[0;32m    361\u001b[0m     y_pred \u001b[39m=\u001b[39m \u001b[39mself\u001b[39m\u001b[39m.\u001b[39m_vectorize(\u001b[39m\"\u001b[39m\u001b[39mpredict\u001b[39m\u001b[39m\"\u001b[39m, X\u001b[39m=\u001b[39mX_inner, fh\u001b[39m=\u001b[39mfh)\n",
      "File \u001b[1;32mc:\\Users\\user\\AppData\\Local\\Programs\\Python\\Python310\\lib\\site-packages\\pycaret\\containers\\models\\time_series.py:2622\u001b[0m, in \u001b[0;36mBaseCdsDtForecaster._predict\u001b[1;34m(self, fh, X)\u001b[0m\n\u001b[0;32m   2620\u001b[0m \u001b[39mdef\u001b[39;00m \u001b[39m_predict\u001b[39m(\u001b[39mself\u001b[39m, fh\u001b[39m=\u001b[39m\u001b[39mNone\u001b[39;00m, X\u001b[39m=\u001b[39m\u001b[39mNone\u001b[39;00m):\n\u001b[0;32m   2621\u001b[0m     \u001b[39mself\u001b[39m\u001b[39m.\u001b[39mcheck_is_fitted()\n\u001b[1;32m-> 2622\u001b[0m     y \u001b[39m=\u001b[39m \u001b[39mself\u001b[39;49m\u001b[39m.\u001b[39;49m_forecaster\u001b[39m.\u001b[39;49mpredict(fh\u001b[39m=\u001b[39;49mfh, X\u001b[39m=\u001b[39;49mX)\n\u001b[0;32m   2624\u001b[0m     \u001b[39mreturn\u001b[39;00m y\n",
      "File \u001b[1;32mc:\\Users\\user\\AppData\\Local\\Programs\\Python\\Python310\\lib\\site-packages\\sktime\\forecasting\\base\\_base.py:358\u001b[0m, in \u001b[0;36mBaseForecaster.predict\u001b[1;34m(self, fh, X)\u001b[0m\n\u001b[0;32m    356\u001b[0m \u001b[39m# we call the ordinary _predict if no looping/vectorization needed\u001b[39;00m\n\u001b[0;32m    357\u001b[0m \u001b[39mif\u001b[39;00m \u001b[39mnot\u001b[39;00m \u001b[39mself\u001b[39m\u001b[39m.\u001b[39m_is_vectorized:\n\u001b[1;32m--> 358\u001b[0m     y_pred \u001b[39m=\u001b[39m \u001b[39mself\u001b[39;49m\u001b[39m.\u001b[39;49m_predict(fh\u001b[39m=\u001b[39;49mfh, X\u001b[39m=\u001b[39;49mX_inner)\n\u001b[0;32m    359\u001b[0m \u001b[39melse\u001b[39;00m:\n\u001b[0;32m    360\u001b[0m     \u001b[39m# otherwise we call the vectorized version of predict\u001b[39;00m\n\u001b[0;32m    361\u001b[0m     y_pred \u001b[39m=\u001b[39m \u001b[39mself\u001b[39m\u001b[39m.\u001b[39m_vectorize(\u001b[39m\"\u001b[39m\u001b[39mpredict\u001b[39m\u001b[39m\"\u001b[39m, X\u001b[39m=\u001b[39mX_inner, fh\u001b[39m=\u001b[39mfh)\n",
      "File \u001b[1;32mc:\\Users\\user\\AppData\\Local\\Programs\\Python\\Python310\\lib\\site-packages\\sktime\\forecasting\\compose\\_pipeline.py:908\u001b[0m, in \u001b[0;36mTransformedTargetForecaster._predict\u001b[1;34m(self, fh, X)\u001b[0m\n\u001b[0;32m    893\u001b[0m \u001b[39mdef\u001b[39;00m \u001b[39m_predict\u001b[39m(\u001b[39mself\u001b[39m, fh\u001b[39m=\u001b[39m\u001b[39mNone\u001b[39;00m, X\u001b[39m=\u001b[39m\u001b[39mNone\u001b[39;00m):\n\u001b[0;32m    894\u001b[0m     \u001b[39m\"\"\"Forecast time series at future horizon.\u001b[39;00m\n\u001b[0;32m    895\u001b[0m \n\u001b[0;32m    896\u001b[0m \u001b[39m    Parameters\u001b[39;00m\n\u001b[1;32m   (...)\u001b[0m\n\u001b[0;32m    906\u001b[0m \u001b[39m        Point predictions\u001b[39;00m\n\u001b[0;32m    907\u001b[0m \u001b[39m    \"\"\"\u001b[39;00m\n\u001b[1;32m--> 908\u001b[0m     y_pred \u001b[39m=\u001b[39m \u001b[39mself\u001b[39;49m\u001b[39m.\u001b[39;49mforecaster_\u001b[39m.\u001b[39;49mpredict(fh\u001b[39m=\u001b[39;49mfh, X\u001b[39m=\u001b[39;49mX)\n\u001b[0;32m    909\u001b[0m     \u001b[39m# inverse transform y_pred\u001b[39;00m\n\u001b[0;32m    910\u001b[0m     y_pred \u001b[39m=\u001b[39m \u001b[39mself\u001b[39m\u001b[39m.\u001b[39m_get_inverse_transform(\u001b[39mself\u001b[39m\u001b[39m.\u001b[39mtransformers_pre_, y_pred, X)\n",
      "File \u001b[1;32mc:\\Users\\user\\AppData\\Local\\Programs\\Python\\Python310\\lib\\site-packages\\sktime\\forecasting\\base\\_base.py:358\u001b[0m, in \u001b[0;36mBaseForecaster.predict\u001b[1;34m(self, fh, X)\u001b[0m\n\u001b[0;32m    356\u001b[0m \u001b[39m# we call the ordinary _predict if no looping/vectorization needed\u001b[39;00m\n\u001b[0;32m    357\u001b[0m \u001b[39mif\u001b[39;00m \u001b[39mnot\u001b[39;00m \u001b[39mself\u001b[39m\u001b[39m.\u001b[39m_is_vectorized:\n\u001b[1;32m--> 358\u001b[0m     y_pred \u001b[39m=\u001b[39m \u001b[39mself\u001b[39;49m\u001b[39m.\u001b[39;49m_predict(fh\u001b[39m=\u001b[39;49mfh, X\u001b[39m=\u001b[39;49mX_inner)\n\u001b[0;32m    359\u001b[0m \u001b[39melse\u001b[39;00m:\n\u001b[0;32m    360\u001b[0m     \u001b[39m# otherwise we call the vectorized version of predict\u001b[39;00m\n\u001b[0;32m    361\u001b[0m     y_pred \u001b[39m=\u001b[39m \u001b[39mself\u001b[39m\u001b[39m.\u001b[39m_vectorize(\u001b[39m\"\u001b[39m\u001b[39mpredict\u001b[39m\u001b[39m\"\u001b[39m, X\u001b[39m=\u001b[39mX_inner, fh\u001b[39m=\u001b[39mfh)\n",
      "File \u001b[1;32mc:\\Users\\user\\AppData\\Local\\Programs\\Python\\Python310\\lib\\site-packages\\sktime\\forecasting\\base\\_sktime.py:31\u001b[0m, in \u001b[0;36m_BaseWindowForecaster._predict\u001b[1;34m(self, fh, X)\u001b[0m\n\u001b[0;32m     29\u001b[0m \u001b[39m# all values are out-of-sample\u001b[39;00m\n\u001b[0;32m     30\u001b[0m \u001b[39mif\u001b[39;00m fh\u001b[39m.\u001b[39mis_all_out_of_sample(\u001b[39mself\u001b[39m\u001b[39m.\u001b[39mcutoff):\n\u001b[1;32m---> 31\u001b[0m     \u001b[39mreturn\u001b[39;00m \u001b[39mself\u001b[39m\u001b[39m.\u001b[39m_predict_fixed_cutoff(\n\u001b[0;32m     32\u001b[0m         fh\u001b[39m.\u001b[39mto_out_of_sample(\u001b[39mself\u001b[39m\u001b[39m.\u001b[39mcutoff), \u001b[39m*\u001b[39m\u001b[39m*\u001b[39mkwargs\n\u001b[0;32m     33\u001b[0m     )\n\u001b[0;32m     35\u001b[0m \u001b[39m# all values are in-sample\u001b[39;00m\n\u001b[0;32m     36\u001b[0m \u001b[39melif\u001b[39;00m fh\u001b[39m.\u001b[39mis_all_in_sample(\u001b[39mself\u001b[39m\u001b[39m.\u001b[39mcutoff):\n",
      "File \u001b[1;32mc:\\Users\\user\\AppData\\Local\\Programs\\Python\\Python310\\lib\\site-packages\\sktime\\forecasting\\base\\_sktime.py:65\u001b[0m, in \u001b[0;36m_BaseWindowForecaster._predict_fixed_cutoff\u001b[1;34m(self, fh, X, return_pred_int, alpha)\u001b[0m\n\u001b[0;32m     50\u001b[0m \u001b[39m\"\"\"Make single-step or multi-step fixed cutoff predictions.\u001b[39;00m\n\u001b[0;32m     51\u001b[0m \n\u001b[0;32m     52\u001b[0m \u001b[39mParameters\u001b[39;00m\n\u001b[1;32m   (...)\u001b[0m\n\u001b[0;32m     62\u001b[0m \u001b[39my_pred = pd.Series or pd.DataFrame\u001b[39;00m\n\u001b[0;32m     63\u001b[0m \u001b[39m\"\"\"\u001b[39;00m\n\u001b[0;32m     64\u001b[0m \u001b[39m# assert all(fh > 0)\u001b[39;00m\n\u001b[1;32m---> 65\u001b[0m y_pred \u001b[39m=\u001b[39m \u001b[39mself\u001b[39;49m\u001b[39m.\u001b[39;49m_predict_last_window(\n\u001b[0;32m     66\u001b[0m     fh, X, return_pred_int\u001b[39m=\u001b[39;49mreturn_pred_int, alpha\u001b[39m=\u001b[39;49malpha\n\u001b[0;32m     67\u001b[0m )\n\u001b[0;32m     68\u001b[0m \u001b[39mif\u001b[39;00m \u001b[39misinstance\u001b[39m(y_pred, pd\u001b[39m.\u001b[39mSeries) \u001b[39mor\u001b[39;00m \u001b[39misinstance\u001b[39m(y_pred, pd\u001b[39m.\u001b[39mDataFrame):\n\u001b[0;32m     69\u001b[0m     \u001b[39mreturn\u001b[39;00m y_pred\n",
      "File \u001b[1;32mc:\\Users\\user\\AppData\\Local\\Programs\\Python\\Python310\\lib\\site-packages\\sktime\\forecasting\\compose\\_reduce.py:723\u001b[0m, in \u001b[0;36m_RecursiveReducer._predict_last_window\u001b[1;34m(self, fh, X, return_pred_int, alpha)\u001b[0m\n\u001b[0;32m    721\u001b[0m \u001b[39mif\u001b[39;00m X \u001b[39mis\u001b[39;00m \u001b[39mnot\u001b[39;00m \u001b[39mNone\u001b[39;00m:\n\u001b[0;32m    722\u001b[0m     last[:, \u001b[39m1\u001b[39m:, :window_length] \u001b[39m=\u001b[39m X_last\u001b[39m.\u001b[39mT\n\u001b[1;32m--> 723\u001b[0m     last[:, \u001b[39m1\u001b[39m:, window_length:] \u001b[39m=\u001b[39m X\u001b[39m.\u001b[39miloc[\n\u001b[0;32m    724\u001b[0m         \u001b[39m-\u001b[39m(last\u001b[39m.\u001b[39mshape[\u001b[39m2\u001b[39m] \u001b[39m-\u001b[39m window_length) :, :\n\u001b[0;32m    725\u001b[0m     ]\u001b[39m.\u001b[39mT\n\u001b[0;32m    727\u001b[0m \u001b[39m# Recursively generate predictions by iterating over forecasting horizon.\u001b[39;00m\n\u001b[0;32m    728\u001b[0m \u001b[39mfor\u001b[39;00m i \u001b[39min\u001b[39;00m \u001b[39mrange\u001b[39m(fh_max):\n\u001b[0;32m    729\u001b[0m     \u001b[39m# Slice prediction window.\u001b[39;00m\n",
      "\u001b[1;31mValueError\u001b[0m: could not broadcast input array from shape (1,10) into shape (1,1,15)"
     ]
    }
   ],
   "source": [
    "data = wb.data.DataFrame(['SP.DYN.LE00.IN','SP.DYN.IMRT.IN'], pais, columns='time',time= range(1975,2021), numericTimeKeys=True)\n",
    "\n",
    "    \n",
    "data =data.transpose()\n",
    "data['EV_Total']=data['SP.DYN.LE00.IN']\n",
    "data['Mortalidad_Infantil']=data['SP.DYN.IMRT.IN']\n",
    "data.drop(['SP.DYN.LE00.IN','SP.DYN.IMRT.IN'], axis = 1,inplace=True)\n",
    "data2 = data.copy()\n",
    "data['date']=data.index\n",
    "data['date'] = pd.to_datetime(data['date'],format='%Y')\n",
    "data=data.set_index('date')\n",
    "    #metric = \"mase\"\n",
    "    #exclude = [\"auto_arima\", \"bats\", \"tbats\", \"lar_cds_dt\", \"par_cds_dt\"]\n",
    "#exoge = data['Mortalidad_Infantil']\n",
    "\n",
    "s = setup(data,target='EV_Total', fh = 10, fold =3,\n",
    "                enforce_exogenous = False,  verbose=False) #numeric_imputation_exogenous=\"linear\", numeric_imputation_target= \"linear\",\n",
    "                \n",
    "best =  s.compare_models(n_select=1, turbo=True , verbose=False)   #,exclude = [\"omp_cds_dt\",\"dt_cds_dt\",'xgboost_cds_dt','ada_cds_dt','et_cds_dt',\n",
    "        #'catboost_cds_dt','gbr_cds_dt','rf_cds_dt','knn_cds_dt','br_cds_dt','lr_cds_dt','lar_cds_dt','lightgbm_cds_dt',\n",
    "        #'par_cds_dt','en_cds_dt','lasso_cds_dt','llar_cds_dt','ridge_cds_dt','huber_cds_dt','auto_arima','arima'] )\n",
    "\n",
    "final_best1 = finalize_model(best)\n",
    "\n",
    "df_fut1=predict_model(best, fh = 15)#, data=exoge\n"
   ]
  },
  {
   "cell_type": "code",
   "execution_count": null,
   "metadata": {},
   "outputs": [],
   "source": []
  }
 ],
 "metadata": {
  "kernelspec": {
   "display_name": "Python 3.10.4 64-bit",
   "language": "python",
   "name": "python3"
  },
  "language_info": {
   "codemirror_mode": {
    "name": "ipython",
    "version": 3
   },
   "file_extension": ".py",
   "mimetype": "text/x-python",
   "name": "python",
   "nbconvert_exporter": "python",
   "pygments_lexer": "ipython3",
   "version": "3.10.4"
  },
  "orig_nbformat": 4,
  "vscode": {
   "interpreter": {
    "hash": "fb4569285eef3a3450cb62085a5b1e0da4bce0af555edc33dcf29baf3acc1368"
   }
  }
 },
 "nbformat": 4,
 "nbformat_minor": 2
}
